{
 "cells": [
  {
   "cell_type": "markdown",
   "metadata": {},
   "source": [
    "# Time-varying g-formula \n",
    "### Demonstration of the TimeVaryGFormula class, using an example from Keil et al. \"The parametric G-formula for time-to-event data: towards intuition with a worked example\" DOI: 10.1097/EDE.0000000000000160\n",
    "\n",
    "Using this code:\n",
    "   Run code through the terminal. The GvHD will be loaded from zEpid and the process of fitting the model\n",
    "   will be completed. Note, this code may take awhile unless the resamples are maximum time are changed.\n",
    "\n",
    "Two graphs (observed vs natural & natural vs prevent GvHD) are created. The Cox PH model results are printed to the terminal\n",
    "\n",
    "#### Versions:\n",
    "    Python 3.6.3\n",
    "    numpy v1.14.5\n",
    "    pandas v0.23.0\n",
    "    lifelines v0.14.6\n",
    "\n",
    "Code by: Paul Zivich,                                                      Last edit: 2018/08/28"
   ]
  },
  {
   "cell_type": "markdown",
   "metadata": {},
   "source": [
    "## Step 0) Setting up environment"
   ]
  },
  {
   "cell_type": "code",
   "execution_count": 2,
   "metadata": {},
   "outputs": [],
   "source": [
    "import numpy as np\n",
    "import pandas as pd\n",
    "from lifelines import KaplanMeierFitter, CoxPHFitter\n",
    "import matplotlib.pyplot as plt\n",
    "import zepid as ze\n",
    "from zepid.causal.gformula import MonteCarloGFormula\n",
    "\n",
    "% matplotlib inline\n",
    "\n",
    "df = ze.load_gvhd_data()\n",
    "df['tomorrow'] = df['day']+1"
   ]
  },
  {
   "cell_type": "markdown",
   "metadata": {},
   "source": [
    "## Step 1) Initialize TimeVaryGFormula class"
   ]
  },
  {
   "cell_type": "code",
   "execution_count": 4,
   "metadata": {},
   "outputs": [],
   "source": [
    "g = MonteCarloGFormula(df,  # pandas dataframe object containing data to fit to\n",
    "                     idvar='id',  # unique ID for participants\n",
    "                     exposure='gvhd',  # exposure column label (gvhd)\n",
    "                     outcome='d',  # outcome column label (d)\n",
    "                     time_in='day',  # entry time column label\n",
    "                     time_out='tomorrow')  # exit time column label"
   ]
  },
  {
   "cell_type": "markdown",
   "metadata": {},
   "source": [
    "## Step 2) Regression model for exposure (graph-versus-host-disease)"
   ]
  },
  {
   "cell_type": "code",
   "execution_count": 5,
   "metadata": {},
   "outputs": [
    {
     "name": "stdout",
     "output_type": "stream",
     "text": [
      "                 Generalized Linear Model Regression Results                  \n",
      "==============================================================================\n",
      "Dep. Variable:                   gvhd   No. Observations:                54617\n",
      "Model:                            GLM   Df Residuals:                    54603\n",
      "Model Family:                Binomial   Df Model:                           13\n",
      "Link Function:                  logit   Scale:                          1.0000\n",
      "Method:                          IRLS   Log-Likelihood:                -477.60\n",
      "Date:                Thu, 07 Mar 2019   Deviance:                       955.20\n",
      "Time:                        11:19:56   Pearson chi2:                 2.30e+04\n",
      "No. Iterations:                    19   Covariance Type:             nonrobust\n",
      "==================================================================================\n",
      "                     coef    std err          z      P>|z|      [0.025      0.975]\n",
      "----------------------------------------------------------------------------------\n",
      "Intercept         -7.2506      1.003     -7.226      0.000      -9.217      -5.284\n",
      "all                0.6005      0.287      2.093      0.036       0.038       1.163\n",
      "cmv                0.1046      0.256      0.408      0.684      -0.398       0.607\n",
      "male              -0.1468      0.271     -0.542      0.588      -0.678       0.384\n",
      "age               -0.0024      0.041     -0.057      0.955      -0.084       0.079\n",
      "agecurs1           0.0001      0.000      0.996      0.319      -0.000       0.000\n",
      "agecurs2          -0.0001      0.000     -1.008      0.314      -0.000       0.000\n",
      "platnormm1         0.4304      0.476      0.904      0.366      -0.503       1.364\n",
      "daysnoplatnorm     0.0099      0.007      1.430      0.153      -0.004       0.023\n",
      "relapsem1          0.0871      1.553      0.056      0.955      -2.957       3.131\n",
      "daysnorelapse      0.0911      0.107      0.850      0.396      -0.119       0.301\n",
      "day               -0.0798      0.107     -0.743      0.457      -0.290       0.131\n",
      "daysq          -4.389e-05   1.59e-05     -2.758      0.006   -7.51e-05   -1.27e-05\n",
      "wait               0.0129      0.010      1.350      0.177      -0.006       0.032\n",
      "==================================================================================\n"
     ]
    }
   ],
   "source": [
    "exp_m = ('all + cmv + male + age + agecurs1 + agecurs2 + platnormm1 + daysnoplatnorm + relapsem1 + daysnorelapse + '\n",
    "         'day + daysq + wait')\n",
    "g.exposure_model(exp_m,  # dependent variable model to predict exposure\n",
    "                 restriction=\"g['gvhdm1']==0\")  # restricting for ITT"
   ]
  },
  {
   "cell_type": "markdown",
   "metadata": {},
   "source": [
    "## Step 3) Regresion model for outcome (death)"
   ]
  },
  {
   "cell_type": "code",
   "execution_count": 6,
   "metadata": {},
   "outputs": [
    {
     "name": "stdout",
     "output_type": "stream",
     "text": [
      "                 Generalized Linear Model Regression Results                  \n",
      "==============================================================================\n",
      "Dep. Variable:                      d   No. Observations:               108714\n",
      "Model:                            GLM   Df Residuals:                   108696\n",
      "Model Family:                Binomial   Df Model:                           17\n",
      "Link Function:                  logit   Scale:                          1.0000\n",
      "Method:                          IRLS   Log-Likelihood:                -565.43\n",
      "Date:                Thu, 07 Mar 2019   Deviance:                       1130.9\n",
      "Time:                        11:20:08   Pearson chi2:                 8.99e+04\n",
      "No. Iterations:                    13   Covariance Type:             nonrobust\n",
      "==================================================================================\n",
      "                     coef    std err          z      P>|z|      [0.025      0.975]\n",
      "----------------------------------------------------------------------------------\n",
      "Intercept         -7.3353      0.943     -7.777      0.000      -9.184      -5.487\n",
      "all               -0.0493      0.291     -0.169      0.866      -0.620       0.522\n",
      "cmv               -0.1400      0.241     -0.582      0.560      -0.611       0.331\n",
      "male               0.1410      0.245      0.575      0.566      -0.340       0.622\n",
      "age                0.0447      0.060      0.742      0.458      -0.073       0.163\n",
      "agesq             -0.0003      0.001     -0.327      0.744      -0.002       0.002\n",
      "day               -0.0029      0.004     -0.816      0.414      -0.010       0.004\n",
      "daysq          -7.555e-08   5.83e-06     -0.013      0.990   -1.15e-05    1.13e-05\n",
      "gvhd               0.9856      0.676      1.457      0.145      -0.340       2.311\n",
      "platnorm          -1.1071      0.420     -2.635      0.008      -1.931      -0.284\n",
      "daysnoplatnorm    -0.0004      0.001     -0.331      0.740      -0.003       0.002\n",
      "relapse            3.1165      0.283     11.027      0.000       2.563       3.670\n",
      "daysnorelapse      0.0003      0.001      0.244      0.808      -0.002       0.003\n",
      "daycu           4.517e-10   2.73e-09      0.166      0.868   -4.89e-09     5.8e-09\n",
      "wait               0.0087      0.011      0.772      0.440      -0.013       0.031\n",
      "day:gvhd          -0.0022      0.005     -0.442      0.658      -0.012       0.007\n",
      "daysq:gvhd      5.172e-06   9.31e-06      0.556      0.578   -1.31e-05    2.34e-05\n",
      "daycu:gvhd     -2.989e-09   4.75e-09     -0.629      0.529   -1.23e-08    6.32e-09\n",
      "==================================================================================\n"
     ]
    }
   ],
   "source": [
    "out_m = ('all + cmv + male + age  + agesq + day + daysq + gvhd + platnorm + daysnoplatnorm + relapse + daysnorelapse +'\n",
    "         ' daycu + wait + day*gvhd + daysq*gvhd + daycu*gvhd')\n",
    "g.outcome_model(out_m)  # dependent variable model to predict outcome"
   ]
  },
  {
   "cell_type": "markdown",
   "metadata": {},
   "source": [
    "## Step 4) Regression model for covariate (normal platelets count)"
   ]
  },
  {
   "cell_type": "code",
   "execution_count": 7,
   "metadata": {},
   "outputs": [
    {
     "name": "stdout",
     "output_type": "stream",
     "text": [
      "                 Generalized Linear Model Regression Results                  \n",
      "==============================================================================\n",
      "Dep. Variable:               platnorm   No. Observations:                 6842\n",
      "Model:                            GLM   Df Residuals:                     6831\n",
      "Model Family:                Binomial   Df Model:                           10\n",
      "Link Function:                  logit   Scale:                          1.0000\n",
      "Method:                          IRLS   Log-Likelihood:                -535.65\n",
      "Date:                Thu, 07 Mar 2019   Deviance:                       1071.3\n",
      "Time:                        11:20:14   Pearson chi2:                 4.61e+03\n",
      "No. Iterations:                    13   Covariance Type:             nonrobust\n",
      "=================================================================================\n",
      "                    coef    std err          z      P>|z|      [0.025      0.975]\n",
      "---------------------------------------------------------------------------------\n",
      "Intercept        -5.7715      0.640     -9.025      0.000      -7.025      -4.518\n",
      "all              -0.0710      0.233     -0.304      0.761      -0.528       0.386\n",
      "cmv              -0.5991      0.197     -3.042      0.002      -0.985      -0.213\n",
      "male              0.3609      0.206      1.753      0.080      -0.043       0.764\n",
      "age               0.1057      0.027      3.880      0.000       0.052       0.159\n",
      "agecurs1         -0.0002      9e-05     -1.842      0.065      -0.000    1.06e-05\n",
      "agecurs2       2.819e-05   9.69e-05      0.291      0.771      -0.000       0.000\n",
      "gvhdm1           -1.1101      0.813     -1.365      0.172      -2.704       0.484\n",
      "daysgvhd         -0.0138      0.017     -0.832      0.405      -0.046       0.019\n",
      "daysnorelapse    -0.0050      0.004     -1.310      0.190      -0.013       0.002\n",
      "wait              0.0132      0.008      1.603      0.109      -0.003       0.029\n",
      "=================================================================================\n"
     ]
    }
   ],
   "source": [
    "prp_m = 'all + cmv + male + age + agecurs1 + agecurs2 + gvhdm1 + daysgvhd + daysnorelapse + wait'\n",
    "prp_recode = (\"g['platnorm'] = np.where(g['platnormm1']==1,1,g['platnorm']);\"\n",
    "              \"g['daysnoplatnorm'] = np.where(g['platnorm']==0,g['daysnoplatnorm']+1,g['daysnoplatnorm']);\"\n",
    "              \"g['daysplatnorm'] = np.where(g['platnorm']==0,g['daysplatnorm'],g['daysplatnorm']+1);\")\n",
    "g.add_covariate_model(label=1,  # order to fit the covariate model\n",
    "                      covariate='platnorm',  # covariate to predict\n",
    "                      model=prp_m,  # dependent variable model to predict covariate (platnorm)\n",
    "                      recode=prp_recode,  # recoding process to execute each loop\n",
    "                      var_type='binary',  # covariate variable type\n",
    "                      restriction=\"g['platnormm1']==0\")  # restricting for ITT"
   ]
  },
  {
   "cell_type": "markdown",
   "metadata": {},
   "source": [
    "## Step 5) Regression model for covariate (probability of relapse)"
   ]
  },
  {
   "cell_type": "code",
   "execution_count": 8,
   "metadata": {},
   "outputs": [
    {
     "name": "stdout",
     "output_type": "stream",
     "text": [
      "                 Generalized Linear Model Regression Results                  \n",
      "==============================================================================\n",
      "Dep. Variable:                relapse   No. Observations:               100930\n",
      "Model:                            GLM   Df Residuals:                   100916\n",
      "Model Family:                Binomial   Df Model:                           13\n",
      "Link Function:                  logit   Scale:                          1.0000\n",
      "Method:                          IRLS   Log-Likelihood:                -345.76\n",
      "Date:                Thu, 07 Mar 2019   Deviance:                       691.51\n",
      "Time:                        11:20:21   Pearson chi2:                 7.56e+04\n",
      "No. Iterations:                    15   Covariance Type:             nonrobust\n",
      "==================================================================================\n",
      "                     coef    std err          z      P>|z|      [0.025      0.975]\n",
      "----------------------------------------------------------------------------------\n",
      "Intercept         -6.8681      1.308     -5.250      0.000      -9.432      -4.304\n",
      "all                0.5865      0.391      1.499      0.134      -0.180       1.353\n",
      "cmv                0.5590      0.335      1.671      0.095      -0.097       1.215\n",
      "male              -0.2541      0.351     -0.724      0.469      -0.942       0.434\n",
      "age               -0.0899      0.051     -1.777      0.076      -0.189       0.009\n",
      "agecurs1           0.0004      0.000      2.303      0.021    5.84e-05       0.001\n",
      "agecurs2          -0.0004      0.000     -1.982      0.047      -0.001   -4.51e-06\n",
      "gvhdm1            -0.3029      0.487     -0.622      0.534      -1.257       0.651\n",
      "daysgvhd          -0.0013      0.002     -0.630      0.529      -0.005       0.003\n",
      "platnormm1         1.1732      0.799      1.469      0.142      -0.392       2.739\n",
      "daysnoplatnorm     0.0054      0.002      2.236      0.025       0.001       0.010\n",
      "day                0.0024      0.002      0.965      0.334      -0.002       0.007\n",
      "daysq          -5.933e-06   3.28e-06     -1.807      0.071   -1.24e-05    5.03e-07\n",
      "wait              -0.0086      0.017     -0.505      0.614      -0.042       0.025\n",
      "==================================================================================\n"
     ]
    }
   ],
   "source": [
    "prr_m = ('all + cmv + male + age + agecurs1 + agecurs2 + gvhdm1 +  daysgvhd + platnormm1 + daysnoplatnorm + day + '\n",
    "         'daysq + wait')\n",
    "relapse_recode = (\"g['relapse'] = np.where(g['relapsem1']==1,1,g['relapse']);\"\n",
    "                  \"g['daysnorelapse'] = np.where(g['relapse']==0,g['daysnorelapse']+1,g['daysnorelapse']);\"\n",
    "                  \"g['daysrelapse'] = np.where(g['relapse']==0,g['daysrelapse'],g['daysrelapse']+1);\")\n",
    "g.add_covariate_model(label=2,  # order to fit the covariate model\n",
    "                      covariate='relapse',  # covariate to predict\n",
    "                      model=prr_m,  # dependent variable model to predict covariate (relapse)\n",
    "                      recode=relapse_recode,  # recoding process to execute each loop\n",
    "                      var_type='binary',  # covariate variable type\n",
    "                      restriction=\"g['relapsem1']==0\")  # restricting for ITT"
   ]
  },
  {
   "cell_type": "markdown",
   "metadata": {},
   "source": [
    "## Step 6) Regression model for censoring\n",
    "Censoring model is to relax the assumption of non-informative censoring. By including this (optional) model, we allow for censoring to be non-informative conditional on CMV, age, gender, days GvHD, time, days GvHD/no relapse/ no normal platelet count."
   ]
  },
  {
   "cell_type": "code",
   "execution_count": 10,
   "metadata": {},
   "outputs": [
    {
     "name": "stdout",
     "output_type": "stream",
     "text": [
      "                 Generalized Linear Model Regression Results                  \n",
      "==============================================================================\n",
      "Dep. Variable:         __uncensored__   No. Observations:               108714\n",
      "Model:                            GLM   Df Residuals:                   108701\n",
      "Model Family:                Binomial   Df Model:                           12\n",
      "Link Function:                  logit   Scale:                          1.0000\n",
      "Method:                          IRLS   Log-Likelihood:                -309.40\n",
      "Date:                Thu, 07 Mar 2019   Deviance:                       618.80\n",
      "Time:                        11:23:43   Pearson chi2:                 8.77e+04\n",
      "No. Iterations:                    14   Covariance Type:             nonrobust\n",
      "==================================================================================\n",
      "                     coef    std err          z      P>|z|      [0.025      0.975]\n",
      "----------------------------------------------------------------------------------\n",
      "Intercept          9.8879      2.242      4.409      0.000       5.493      14.283\n",
      "all               -0.7590      0.448     -1.695      0.090      -1.637       0.119\n",
      "cmv                0.4335      0.348      1.247      0.212      -0.248       1.115\n",
      "male              -0.2234      0.370     -0.604      0.546      -0.949       0.502\n",
      "age                0.0797      0.107      0.747      0.455      -0.129       0.289\n",
      "agesq             -0.0011      0.002     -0.631      0.528      -0.005       0.002\n",
      "daysgvhd          -0.0006      0.000     -1.561      0.119      -0.001       0.000\n",
      "daysnoplatnorm    -0.0006      0.001     -0.586      0.558      -0.003       0.002\n",
      "daysnorelapse      0.0002      0.001      0.263      0.793      -0.002       0.002\n",
      "day                0.0006      0.006      0.108      0.914      -0.011       0.012\n",
      "daysq          -6.625e-06   6.23e-06     -1.064      0.288   -1.88e-05    5.58e-06\n",
      "daycu           2.772e-09   2.02e-09      1.375      0.169   -1.18e-09    6.73e-09\n",
      "wait               0.0040      0.012      0.343      0.732      -0.019       0.027\n",
      "==================================================================================\n"
     ]
    }
   ],
   "source": [
    "cen_m = 'all + cmv + male + age + agesq + daysgvhd + daysnoplatnorm + daysnorelapse + day + daysq + daycu + wait'\n",
    "g.censoring_model(model=cen_m)"
   ]
  },
  {
   "cell_type": "markdown",
   "metadata": {},
   "source": [
    "## Step 7) Estimating natural course\n",
    "Now we can estimate the natural course (attempt to replicate the observed data with the specified models)"
   ]
  },
  {
   "cell_type": "code",
   "execution_count": 11,
   "metadata": {},
   "outputs": [],
   "source": [
    "g.fit(treatment=\"((g['gvhd']==1) | (g['gvhdm1']==1))\",  # treatment strategy (ITT natural course)\n",
    "      lags={'platnorm': 'platnormm1',  # lagging certain variables at end of each loop\n",
    "            'relapse': 'relapsem1',\n",
    "            'gvhd': 'gvhdm1'},\n",
    "      sample=13700,  # number to resample from the population for Monte Carlo\n",
    "      t_max=1825,  # maximum time to simulate until (5 years)\n",
    "      in_recode=(\"g = g.loc[g['censlost'] == 0].copy();\"  # variable recoding to execute at start of loops\n",
    "                 \"g['daysq'] = g['day']**2;\"\n",
    "                 \"g['daycu'] = g['day']**3;\"),\n",
    "      out_recode=(\"g['daysnogvhd'] = np.where(g['gvhd'] == 0, g['daysnogvhd']+1, g['daysnogvhd']);\"\n",
    "                  \"g['daysgvhd'] = np.where(g['gvhd'] == 0, g['daysgvhd'], g['daysgvhd']+1);\")\n",
    "     )  # Recoding variables at end of loops"
   ]
  },
  {
   "cell_type": "markdown",
   "metadata": {},
   "source": [
    "Note: above code took about 5 minutes to run on Python 3.6 64bit"
   ]
  },
  {
   "cell_type": "markdown",
   "metadata": {},
   "source": [
    "\n",
    "### Step 7a) Comparing natural course to observed data"
   ]
  },
  {
   "cell_type": "code",
   "execution_count": 12,
   "metadata": {},
   "outputs": [
    {
     "data": {
      "image/png": "[encoded data removed]",
      "text/plain": [
       "<Figure size 504x432 with 1 Axes>"
      ]
     },
     "metadata": {},
     "output_type": "display_data"
    }
   ],
   "source": [
    "# G-formula predictions\n",
    "gf = g.predicted_outcomes\n",
    "gfs = gf.loc[gf.uid_g_zepid != gf.uid_g_zepid.shift(-1)].copy()  # getting last observation\n",
    "kmn = KaplanMeierFitter()  # fitting Kaplan-Meier\n",
    "kmn.fit(durations=gfs['day'], event_observed=gfs['d'])\n",
    "\n",
    "# Observed data (extracting last observation)\n",
    "df.sort_values(by=['id', 'day'])\n",
    "dfs = df.loc[df.id != df.id.shift(-1)].copy()\n",
    "kmo = KaplanMeierFitter()\n",
    "kmo.fit(durations=dfs['day'], event_observed=dfs['d'])\n",
    "\n",
    "# Creating plots\n",
    "plt.figure(figsize=(7,6))\n",
    "plt.step(kmo.event_table.index, kmo.survival_function_, c='gray', where='post', label='Observed', linewidth=3)\n",
    "plt.step(kmn.event_table.index, kmn.survival_function_, c='firebrick', where='post', label='Natural', linewidth=3)\n",
    "plt.xlabel('Time (days)')\n",
    "plt.ylabel('Pr(death)')\n",
    "plt.legend()\n",
    "plt.show()"
   ]
  },
  {
   "cell_type": "markdown",
   "metadata": {},
   "source": [
    "## Step 8) Estimating no graph-versus-host-disease "
   ]
  },
  {
   "cell_type": "code",
   "execution_count": 13,
   "metadata": {},
   "outputs": [],
   "source": [
    "g.fit(treatment=\"none\",\n",
    "      lags={'platnorm': 'platnormm1',\n",
    "            'relapse': 'relapsem1',\n",
    "            'gvhd': 'gvhdm1'},\n",
    "      sample=13700,  # number to resample from the population for Monte Carlo\n",
    "      t_max=1825,  # maximum time to simulate until (5 years)\n",
    "      in_recode=(\"g['daysq'] = g['day']**2;\"\n",
    "                 \"g['daycu'] = g['day']**3;\"),\n",
    "      out_recode=(\"g['daysnogvhd'] = np.where(g['gvhd']==0,g['daysnogvhd']+1,g['daysnogvhd']);\"\n",
    "                  \"g['daysgvhd'] = np.where(g['gvhd']==0,g['daysgvhd'],g['daysgvhd']+1);\"))"
   ]
  },
  {
   "cell_type": "markdown",
   "metadata": {},
   "source": [
    "## Step 9) Comparison of natural course to preventing all GvHD"
   ]
  },
  {
   "cell_type": "code",
   "execution_count": 14,
   "metadata": {},
   "outputs": [],
   "source": [
    "# Fitting Kaplan Meier for the prevent all GvHD data\n",
    "gfn = g.predicted_outcomes.copy()\n",
    "gfns = gfn.loc[gfn.uid_g_zepid != gfn.uid_g_zepid.shift(-1)].copy()\n",
    "kmp = KaplanMeierFitter()\n",
    "kmp.fit(durations=gfns['day'], event_observed=gfns['d'])\n",
    "\n",
    "# Setting up pandas dataframe for lifelines.CoxPHFitter\n",
    "rfn = pd.DataFrame()  # Natural course data\n",
    "rfn['event'] = gfs['d']\n",
    "rfn['time'] = gfs['day']\n",
    "rfn['exp'] = 1\n",
    "\n",
    "rfp = pd.DataFrame()  # Creating df for CoxPHFitter\n",
    "rfp['event'] = gfns['d']\n",
    "rfp['time'] = gfns['day']\n",
    "rfp['exp'] = 0\n",
    "rf = rfn.append(rfp, ignore_index=True, sort=False)"
   ]
  },
  {
   "cell_type": "markdown",
   "metadata": {
    "collapsed": true
   },
   "source": [
    "### Step 9a) Generating survival curve plots"
   ]
  },
  {
   "cell_type": "code",
   "execution_count": 15,
   "metadata": {},
   "outputs": [
    {
     "data": {
      "image/png": "[encoded data removed]",
      "text/plain": [
       "<Figure size 504x432 with 1 Axes>"
      ]
     },
     "metadata": {},
     "output_type": "display_data"
    }
   ],
   "source": [
    "plt.figure(figsize=(7,6))\n",
    "plt.step(kmn.event_table.index, kmn.survival_function_, c='firebrick', where='post', label='Natural', linewidth=3)\n",
    "plt.step(kmp.event_table.index, kmp.survival_function_, c='blue', where='post', label='Prevent GvHD', linewidth=3)\n",
    "plt.xlabel('Time (days)')\n",
    "plt.ylabel('Pr(death)')\n",
    "plt.legend()\n",
    "plt.show()"
   ]
  },
  {
   "cell_type": "markdown",
   "metadata": {},
   "source": [
    "### Step 9b) Estimating Hazard Ratio"
   ]
  },
  {
   "cell_type": "code",
   "execution_count": 16,
   "metadata": {},
   "outputs": [
    {
     "name": "stdout",
     "output_type": "stream",
     "text": [
      "Hazard Ratio: 1.06\n"
     ]
    }
   ],
   "source": [
    "cph = CoxPHFitter()\n",
    "cph.fit(rf, duration_col='time', event_col='event')\n",
    "print('Hazard Ratio:', round(np.exp(cph.hazards_['exp'][0]), 2))"
   ]
  }
 ],
 "metadata": {
  "kernelspec": {
   "display_name": "Python 3",
   "language": "python",
   "name": "python3"
  },
  "language_info": {
   "codemirror_mode": {
    "name": "ipython",
    "version": 3
   },
   "file_extension": ".py",
   "mimetype": "text/x-python",
   "name": "python",
   "nbconvert_exporter": "python",
   "pygments_lexer": "ipython3",
   "version": "3.6.3"
  }
 },
 "nbformat": 4,
 "nbformat_minor": 1
}
